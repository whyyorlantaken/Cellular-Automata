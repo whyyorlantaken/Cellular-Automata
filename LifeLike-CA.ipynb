{
 "cells": [
  {
   "cell_type": "markdown",
   "metadata": {},
   "source": [
    "# Life like celullar automata\n",
    "We'll implement some of the most famous."
   ]
  },
  {
   "cell_type": "code",
   "execution_count": 1,
   "metadata": {},
   "outputs": [],
   "source": [
    "# Our module\n",
    "from lifelike import LifeLikeCA\n",
    "\n",
    "import numpy as np\n",
    "import os"
   ]
  },
  {
   "cell_type": "markdown",
   "metadata": {},
   "source": [
    "## Conway's Game of Life"
   ]
  },
  {
   "cell_type": "code",
   "execution_count": 2,
   "metadata": {},
   "outputs": [],
   "source": [
    "# Create two simple organisms\n",
    "organism = np.array([[1, 0, 1],\n",
    "                     [0, 1, 1],\n",
    "                     [0, 1, 0]])\n",
    "\n",
    "organism2 = np.array([[1, 0, 1],\n",
    "                      [1, 1, 1],\n",
    "                      [0, 1, 0]])\n",
    "\n",
    "# Create a world\n",
    "world = np.zeros((50, 50))\n",
    "\n",
    "# Place the organisms in the world at random locations\n",
    "np.random.seed(21)\n",
    "\n",
    "# Loop\n",
    "for i in range(7):\n",
    "    x = np.random.randint(0, 48)  \n",
    "    y = np.random.randint(0, 48) \n",
    "\n",
    "    if i % 2 == 0:\n",
    "        world[x:x+3, y:y+3] = organism\n",
    "\n",
    "    else:\n",
    "        world[x:x+3, y:y+3] = organism2"
   ]
  },
  {
   "cell_type": "code",
   "execution_count": 3,
   "metadata": {},
   "outputs": [],
   "source": [
    "# Rule\n",
    "conway = 6152\n",
    "\n",
    "# Create an object\n",
    "game_life = LifeLikeCA(rule = conway, matrix = world)"
   ]
  },
  {
   "cell_type": "code",
   "execution_count": 4,
   "metadata": {},
   "outputs": [
    {
     "name": "stdout",
     "output_type": "stream",
     "text": [
      "Born with [3] and survive with [2 3] neighbors.\n"
     ]
    }
   ],
   "source": [
    "# See the birth and survive rules\n",
    "print(game_life)"
   ]
  },
  {
   "cell_type": "code",
   "execution_count": 5,
   "metadata": {},
   "outputs": [],
   "source": [
    "# Create a folder\n",
    "if not os.path.exists(\"Data/life/conway\"):\n",
    "    os.mkdir(\"Data/life/conway\")"
   ]
  },
  {
   "cell_type": "code",
   "execution_count": 6,
   "metadata": {},
   "outputs": [
    {
     "data": {
      "image/png": "[encoded data removed]",
      "text/plain": [
       "<Figure size 400x400 with 1 Axes>"
      ]
     },
     "metadata": {},
     "output_type": "display_data"
    }
   ],
   "source": [
    "# See the initial state\n",
    "game_life.image(state = world, cmap = \"Greys_r\", show = True,\n",
    "               shape=(4,4), save = False)"
   ]
  },
  {
   "cell_type": "code",
   "execution_count": 7,
   "metadata": {},
   "outputs": [],
   "source": [
    "# # Construct the movie\n",
    "# game_life.movie(path = \"Data/life/conway/\", generations = 200, processors = 4,\n",
    "#                 cmap = \"Greys_r\", fps = 10, gif_name = \"conway\", display = False) "
   ]
  },
  {
   "cell_type": "markdown",
   "metadata": {},
   "source": [
    "## Seeds: 4"
   ]
  },
  {
   "cell_type": "code",
   "execution_count": 8,
   "metadata": {},
   "outputs": [],
   "source": [
    "# Create empty matrix\n",
    "size = 350\n",
    "matrix = np.zeros((size, size), dtype=int)\n",
    "\n",
    "# Center point\n",
    "center_x, center_y = size // 2, size // 2\n",
    "\n",
    "# Irregular pattern\n",
    "irregular = [\n",
    "    (0, 0),  \n",
    "    (1, 1),    \n",
    "    (2, 2),    \n",
    "    (-1, 2),   \n",
    "    (2, -1),   \n",
    "    (0, 3),     \n",
    "    (3, 0),    \n",
    "    (-2, 1),   \n",
    "    (1, -2),    \n",
    "    (2, 1),     \n",
    "    (-1, -1),   \n",
    "]\n",
    "\n",
    "# Place the pattern\n",
    "for dx, dy in irregular:\n",
    "    matrix[center_x + dx, center_y + dy] = 1"
   ]
  },
  {
   "cell_type": "code",
   "execution_count": 9,
   "metadata": {},
   "outputs": [
    {
     "name": "stdout",
     "output_type": "stream",
     "text": [
      "Born with [2] and survive with [] neighbors.\n"
     ]
    }
   ],
   "source": [
    "# Rule\n",
    "seeds = 4\n",
    "\n",
    "# Create an object\n",
    "seeds_ca = LifeLikeCA(rule = seeds, matrix = matrix)\n",
    "\n",
    "# Print the birth and survive rules\n",
    "print(seeds_ca)"
   ]
  },
  {
   "cell_type": "code",
   "execution_count": 10,
   "metadata": {},
   "outputs": [],
   "source": [
    "# Create a folder\n",
    "if not os.path.exists(\"Data/life/seeds\"):\n",
    "    os.mkdir(\"Data/life/seeds\")"
   ]
  },
  {
   "cell_type": "code",
   "execution_count": 11,
   "metadata": {},
   "outputs": [
    {
     "data": {
      "image/png": "[encoded data removed]",
      "text/plain": [
       "<Figure size 400x400 with 1 Axes>"
      ]
     },
     "metadata": {},
     "output_type": "display_data"
    }
   ],
   "source": [
    "# See the initial state\n",
    "seeds_ca.image(state = matrix, cmap = \"Purples_r\", show = True,\n",
    "               shape=(4,4), save = False)"
   ]
  },
  {
   "cell_type": "code",
   "execution_count": 12,
   "metadata": {},
   "outputs": [],
   "source": [
    "# # Construct the movie\n",
    "# seeds_ca.movie(path = \"Data/life/seeds/\", generations = 200, processors = 4,\n",
    "#                 cmap = \"Purples_r\", fps = 7, gif_name = \"seeds\", display = False)"
   ]
  }
 ],
 "metadata": {
  "kernelspec": {
   "display_name": "Python 3",
   "language": "python",
   "name": "python3"
  },
  "language_info": {
   "codemirror_mode": {
    "name": "ipython",
    "version": 3
   },
   "file_extension": ".py",
   "mimetype": "text/x-python",
   "name": "python",
   "nbconvert_exporter": "python",
   "pygments_lexer": "ipython3",
   "version": "3.9.21"
  }
 },
 "nbformat": 4,
 "nbformat_minor": 2
}
