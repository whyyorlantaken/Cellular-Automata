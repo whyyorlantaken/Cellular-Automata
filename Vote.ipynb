{
 "cells": [
  {
   "cell_type": "markdown",
   "metadata": {},
   "source": [
    "# Vote: Rule $254432$"
   ]
  },
  {
   "cell_type": "code",
   "execution_count": 1,
   "metadata": {},
   "outputs": [],
   "source": [
    "# Module\n",
    "from lifelike import LifeLikeCA\n",
    "\n",
    "import numpy as np"
   ]
  },
  {
   "cell_type": "code",
   "execution_count": 85,
   "metadata": {},
   "outputs": [],
   "source": [
    "# Create a random matrix\n",
    "p = 0.55\n",
    "np.random.seed(21)\n",
    "matrix = np.random.choice([0, 1], size=(64, 64), p=[p, 1-p])\n",
    "\n",
    "# Create a bigger matrix and put it in the middle\n",
    "bigger_matrix = np.zeros((120, 120))\n",
    "bigger_matrix[28:92, 28:92] = matrix"
   ]
  },
  {
   "cell_type": "code",
   "execution_count": 86,
   "metadata": {},
   "outputs": [
    {
     "name": "stdout",
     "output_type": "stream",
     "text": [
      "Born with [5 6 7 8] and survive with [4 5 6 7 8] neighbors. Otherwise, die.\n"
     ]
    }
   ],
   "source": [
    "# Rule\n",
    "vote = 254432\n",
    "\n",
    "# Create an object\n",
    "vote_ca = LifeLikeCA(rule = vote, matrix = bigger_matrix)"
   ]
  },
  {
   "cell_type": "code",
   "execution_count": 87,
   "metadata": {},
   "outputs": [
    {
     "name": "stdout",
     "output_type": "stream",
     "text": [
      "All images have been generated.\n",
      "\n"
     ]
    }
   ],
   "source": [
    "# Create the images\n",
    "vote_ca.images(generations = 20, processors = 4, path = \"Data/life/vote/\", shape = (6,6), cmap = \"Blues\")"
   ]
  },
  {
   "cell_type": "code",
   "execution_count": 89,
   "metadata": {},
   "outputs": [
    {
     "name": "stderr",
     "output_type": "stream",
     "text": [
      "Reading images: 100%|██████████| 21/21 [00:00<00:00, 123.04it/s]\n"
     ]
    },
    {
     "name": "stdout",
     "output_type": "stream",
     "text": [
      "\n",
      "Saved vote.gif at Data/life/vote/.\n",
      "\n"
     ]
    }
   ],
   "source": [
    "# Create the gif\n",
    "vote_ca.gif(path = \"Data/life/vote/\", name = \"vote\", fps = 5)"
   ]
  }
 ],
 "metadata": {
  "kernelspec": {
   "display_name": "Python 3",
   "language": "python",
   "name": "python3"
  },
  "language_info": {
   "codemirror_mode": {
    "name": "ipython",
    "version": 3
   },
   "file_extension": ".py",
   "mimetype": "text/x-python",
   "name": "python",
   "nbconvert_exporter": "python",
   "pygments_lexer": "ipython3",
   "version": "3.9.21"
  }
 },
 "nbformat": 4,
 "nbformat_minor": 2
}
