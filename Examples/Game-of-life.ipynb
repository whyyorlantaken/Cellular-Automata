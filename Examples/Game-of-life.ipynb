{
 "cells": [
  {
   "cell_type": "markdown",
   "metadata": {},
   "source": [
    "# Conway's game of life: Rule $6152$"
   ]
  },
  {
   "cell_type": "code",
   "execution_count": 1,
   "metadata": {},
   "outputs": [],
   "source": [
    "# Our module\n",
    "import sys\n",
    "sys.path.append('..')\n",
    "from lifelike import LifeLikeCA\n",
    "\n",
    "import numpy as np\n",
    "import pandas as pd"
   ]
  },
  {
   "cell_type": "code",
   "execution_count": 2,
   "metadata": {},
   "outputs": [],
   "source": [
    "# Read the initial state from a CSV file\n",
    "initial_state = pd.read_csv('Data/states/glider.csv', header = None).values\n",
    "\n",
    "# Place it\n",
    "grid = np.zeros((70, 70))\n",
    "grid[45:45+initial_state.shape[0], :initial_state.shape[1]] = initial_state"
   ]
  },
  {
   "cell_type": "code",
   "execution_count": 3,
   "metadata": {},
   "outputs": [
    {
     "name": "stdout",
     "output_type": "stream",
     "text": [
      "Born with [3] and survive with [2 3] neighbors. Otherwise, die.\n"
     ]
    }
   ],
   "source": [
    "# Rule\n",
    "life = 6152\n",
    "\n",
    "# Create an object\n",
    "conways = LifeLikeCA(rule = life, matrix = grid)"
   ]
  },
  {
   "cell_type": "code",
   "execution_count": 4,
   "metadata": {},
   "outputs": [
    {
     "data": {
      "image/png": "[encoded data removed]",
      "text/plain": [
       "<Figure size 500x500 with 1 Axes>"
      ]
     },
     "metadata": {},
     "output_type": "display_data"
    }
   ],
   "source": [
    "# See the initial state\n",
    "conways.image(save = False, show = True, state = grid, cmap = 'tab20c')"
   ]
  },
  {
   "cell_type": "code",
   "execution_count": 5,
   "metadata": {},
   "outputs": [],
   "source": [
    "# Generate the images\n",
    "#conways.images(path = \"Data/life/conways/\", generations = 900, processors = 4, cmap = 'tab20c')"
   ]
  },
  {
   "cell_type": "code",
   "execution_count": 6,
   "metadata": {},
   "outputs": [
    {
     "name": "stderr",
     "output_type": "stream",
     "text": [
      "Reading images: 100%|██████████| 901/901 [00:06<00:00, 148.84it/s]\n"
     ]
    },
    {
     "name": "stdout",
     "output_type": "stream",
     "text": [
      "\n",
      "Saved conways-15fps.gif at Data/life/conways/.\n",
      "\n"
     ]
    },
    {
     "name": "stderr",
     "output_type": "stream",
     "text": [
      "Reading images: 100%|██████████| 901/901 [00:06<00:00, 148.80it/s]\n"
     ]
    },
    {
     "name": "stdout",
     "output_type": "stream",
     "text": [
      "\n",
      "Saved conways-20fps.gif at Data/life/conways/.\n",
      "\n"
     ]
    },
    {
     "name": "stderr",
     "output_type": "stream",
     "text": [
      "Reading images: 100%|██████████| 901/901 [00:05<00:00, 178.95it/s]\n"
     ]
    },
    {
     "name": "stdout",
     "output_type": "stream",
     "text": [
      "\n",
      "Saved conways-30fps.gif at Data/life/conways/.\n",
      "\n"
     ]
    }
   ],
   "source": [
    "# Create a gif\n",
    "conways.gif(path = \"Data/life/conways/\", name = \"conways-15fps\", fps = 15, loop = 0)\n",
    "conways.gif(path = \"Data/life/conways/\", name = \"conways-20fps\", fps = 20, loop = 0)\n",
    "conways.gif(path = \"Data/life/conways/\", name = \"conways-30fps\", fps = 30, loop = 0)"
   ]
  }
 ],
 "metadata": {
  "kernelspec": {
   "display_name": "Python 3",
   "language": "python",
   "name": "python3"
  },
  "language_info": {
   "codemirror_mode": {
    "name": "ipython",
    "version": 3
   },
   "file_extension": ".py",
   "mimetype": "text/x-python",
   "name": "python",
   "nbconvert_exporter": "python",
   "pygments_lexer": "ipython3",
   "version": "3.9.21"
  }
 },
 "nbformat": 4,
 "nbformat_minor": 2
}
