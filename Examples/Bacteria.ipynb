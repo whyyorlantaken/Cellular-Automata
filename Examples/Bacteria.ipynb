{
 "cells": [
  {
   "cell_type": "markdown",
   "metadata": {},
   "source": [
    "# Bacteria: Rule $57368$"
   ]
  },
  {
   "cell_type": "code",
   "execution_count": 1,
   "metadata": {},
   "outputs": [],
   "source": [
    "# Module\n",
    "from lifelike import LifeLikeCA\n",
    "\n",
    "import numpy as np"
   ]
  },
  {
   "cell_type": "code",
   "execution_count": 42,
   "metadata": {},
   "outputs": [],
   "source": [
    "# Create a random matrix\n",
    "p = 0.6\n",
    "np.random.seed(21)\n",
    "matrix = np.random.choice([0, 1], size=(32, 32), p=[p, 1-p])\n",
    "\n",
    "# Create a bigger matrix and put it in the middle\n",
    "bigger_matrix = np.zeros((120, 120))\n",
    "bigger_matrix[44:76, 44:76] = matrix"
   ]
  },
  {
   "cell_type": "code",
   "execution_count": 43,
   "metadata": {},
   "outputs": [
    {
     "name": "stdout",
     "output_type": "stream",
     "text": [
      "Born with [3 4] and survive with [4 5 6] neighbors. Otherwise, die.\n"
     ]
    }
   ],
   "source": [
    "# Rule\n",
    "bacteria = 57368\n",
    "\n",
    "# Create an object\n",
    "bacteria_ca = LifeLikeCA(rule = bacteria, matrix = bigger_matrix)"
   ]
  },
  {
   "cell_type": "code",
   "execution_count": null,
   "metadata": {},
   "outputs": [
    {
     "name": "stdout",
     "output_type": "stream",
     "text": [
      "All images have been generated.\n",
      "\n"
     ]
    }
   ],
   "source": [
    "# Create the images\n",
    "# bacteria_ca.images(generations = 500, processors = 4, path = \"Data/life/bacteria/\", shape = (6,6), cmap = \"Greens\")"
   ]
  },
  {
   "cell_type": "code",
   "execution_count": null,
   "metadata": {},
   "outputs": [
    {
     "name": "stderr",
     "output_type": "stream",
     "text": [
      "Reading images: 100%|██████████| 501/501 [00:02<00:00, 197.01it/s]\n"
     ]
    },
    {
     "name": "stdout",
     "output_type": "stream",
     "text": [
      "\n",
      "Saved bacteria-20fps.gif at Data/life/bacteria/.\n",
      "\n"
     ]
    },
    {
     "name": "stderr",
     "output_type": "stream",
     "text": [
      "Reading images: 100%|██████████| 501/501 [00:02<00:00, 170.36it/s]\n"
     ]
    },
    {
     "name": "stdout",
     "output_type": "stream",
     "text": [
      "\n",
      "Saved bacteria-30fps.gif at Data/life/bacteria/.\n",
      "\n"
     ]
    },
    {
     "name": "stderr",
     "output_type": "stream",
     "text": [
      "Reading images: 100%|██████████| 501/501 [00:02<00:00, 181.78it/s]\n"
     ]
    },
    {
     "name": "stdout",
     "output_type": "stream",
     "text": [
      "\n",
      "Saved bacteria-60fps.gif at Data/life/bacteria/.\n",
      "\n"
     ]
    }
   ],
   "source": [
    "# Create the gif\n",
    "bacteria_ca.gif(path = \"Data/life/bacteria/\", name = \"bacteria-20fps\", fps = 20)\n",
    "bacteria_ca.gif(path = \"Data/life/bacteria/\", name = \"bacteria-30fps\", fps = 30)\n",
    "bacteria_ca.gif(path = \"Data/life/bacteria/\", name = \"bacteria-60fps\", fps = 50)"
   ]
  },
  {
   "cell_type": "code",
   "execution_count": 48,
   "metadata": {},
   "outputs": [
    {
     "name": "stderr",
     "output_type": "stream",
     "text": [
      "Reading images: 100%|██████████| 501/501 [00:03<00:00, 158.22it/s]\n"
     ]
    },
    {
     "name": "stdout",
     "output_type": "stream",
     "text": [
      "\n",
      "Saved bacteria-100fps.gif at Data/life/bacteria/.\n",
      "\n"
     ]
    }
   ],
   "source": [
    "# Last one\n",
    "bacteria_ca.gif(path = \"Data/life/bacteria/\", name = \"bacteria-100fps\", fps = 100)"
   ]
  }
 ],
 "metadata": {
  "kernelspec": {
   "display_name": "Python 3",
   "language": "python",
   "name": "python3"
  },
  "language_info": {
   "codemirror_mode": {
    "name": "ipython",
    "version": 3
   },
   "file_extension": ".py",
   "mimetype": "text/x-python",
   "name": "python",
   "nbconvert_exporter": "python",
   "pygments_lexer": "ipython3",
   "version": "3.9.21"
  }
 },
 "nbformat": 4,
 "nbformat_minor": 2
}
