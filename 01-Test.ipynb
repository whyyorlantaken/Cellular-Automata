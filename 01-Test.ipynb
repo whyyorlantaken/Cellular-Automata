{
 "cells": [
  {
   "cell_type": "code",
   "execution_count": 1,
   "metadata": {},
   "outputs": [],
   "source": [
    "# Libraries\n",
    "import matplotlib.pyplot as plt\n",
    "import numpy as np"
   ]
  },
  {
   "cell_type": "code",
   "execution_count": null,
   "metadata": {},
   "outputs": [],
   "source": [
    "# Create a function which applies a simple rule\n",
    "def simpleRule(array):\n",
    "\n",
    "    # Loop\n",
    "    for m in range(len(array)):\n",
    "\n",
    "        # Boundaries\n",
    "        if m == 0:\n",
    "\n",
    "            # Condition\n",
    "            if (array[m-1] == 0) and (array[m+1]== 0):\n",
    "                array[m] = 1\n",
    "\n",
    "        if m == -1:\n",
    "\n",
    "            # Condition\n",
    "            if (array[m-1] == 0) and (array[m+1]== 0):\n",
    "                array[m] = 1\n",
    "            \n",
    "            # Otherwise\n",
    "            else:\n",
    "                array[m+1] = 0\n",
    "\n",
    "        # Other elements\n",
    "\n",
    "        if m < -2:\n",
    "            if (array[m] == 0) and (array[m+2]== 0):\n",
    "                array[m+1] = 1\n",
    "\n",
    "        else:\n",
    "            if (array[m] == 0) and (array[m+2]== 0):\n",
    "                array[m+1] = 1\n",
    "        \n",
    "        # Otherwise\n",
    "        else:\n",
    "            array[m+1] = 0\n",
    "\n",
    "    return array"
   ]
  },
  {
   "cell_type": "code",
   "execution_count": 37,
   "metadata": {},
   "outputs": [],
   "source": [
    "# And define the shape\n",
    "shape = 5\n",
    "\n",
    "# Create an array of zeros\n",
    "array = np.zeros(shape)\n",
    "\n",
    "# Create an empty list\n",
    "image = []"
   ]
  },
  {
   "cell_type": "code",
   "execution_count": 38,
   "metadata": {},
   "outputs": [
    {
     "ename": "UnboundLocalError",
     "evalue": "local variable 'm' referenced before assignment",
     "output_type": "error",
     "traceback": [
      "\u001b[0;31m---------------------------------------------------------------------------\u001b[0m",
      "\u001b[0;31mUnboundLocalError\u001b[0m                         Traceback (most recent call last)",
      "Cell \u001b[0;32mIn[38], line 5\u001b[0m\n\u001b[1;32m      1\u001b[0m \u001b[38;5;66;03m# Loop\u001b[39;00m\n\u001b[1;32m      2\u001b[0m \u001b[38;5;28;01mfor\u001b[39;00m _ \u001b[38;5;129;01min\u001b[39;00m \u001b[38;5;28mrange\u001b[39m(shape):\n\u001b[1;32m      3\u001b[0m \n\u001b[1;32m      4\u001b[0m     \u001b[38;5;66;03m# Call the function\u001b[39;00m\n\u001b[0;32m----> 5\u001b[0m     cell_array \u001b[38;5;241m=\u001b[39m \u001b[43msimpleRule\u001b[49m\u001b[43m(\u001b[49m\u001b[43marray\u001b[49m\u001b[43m)\u001b[49m\n\u001b[1;32m      7\u001b[0m     \u001b[38;5;66;03m# Store it\u001b[39;00m\n\u001b[1;32m      8\u001b[0m     image\u001b[38;5;241m.\u001b[39mappend(cell_array)\n",
      "Cell \u001b[0;32mIn[36], line 5\u001b[0m, in \u001b[0;36msimpleRule\u001b[0;34m(array)\u001b[0m\n\u001b[1;32m      2\u001b[0m \u001b[38;5;28;01mdef\u001b[39;00m \u001b[38;5;21msimpleRule\u001b[39m(array):\n\u001b[1;32m      3\u001b[0m \n\u001b[1;32m      4\u001b[0m     \u001b[38;5;66;03m# Boundaries\u001b[39;00m\n\u001b[0;32m----> 5\u001b[0m     \u001b[38;5;28;01mif\u001b[39;00m \u001b[43mm\u001b[49m \u001b[38;5;241m==\u001b[39m \u001b[38;5;241m0\u001b[39m:\n\u001b[1;32m      6\u001b[0m \n\u001b[1;32m      7\u001b[0m         \u001b[38;5;66;03m# Condition\u001b[39;00m\n\u001b[1;32m      8\u001b[0m         \u001b[38;5;28;01mif\u001b[39;00m (array[m\u001b[38;5;241m-\u001b[39m\u001b[38;5;241m1\u001b[39m] \u001b[38;5;241m==\u001b[39m \u001b[38;5;241m0\u001b[39m) \u001b[38;5;129;01mand\u001b[39;00m (array[m\u001b[38;5;241m+\u001b[39m\u001b[38;5;241m1\u001b[39m]\u001b[38;5;241m==\u001b[39m \u001b[38;5;241m0\u001b[39m):\n\u001b[1;32m      9\u001b[0m             array[m] \u001b[38;5;241m=\u001b[39m \u001b[38;5;241m1\u001b[39m\n",
      "\u001b[0;31mUnboundLocalError\u001b[0m: local variable 'm' referenced before assignment"
     ]
    }
   ],
   "source": [
    "# Loop\n",
    "for _ in range(shape):\n",
    "\n",
    "    # Call the function\n",
    "    cell_array = simpleRule(array)\n",
    "\n",
    "    # Store it\n",
    "    image.append(cell_array)\n",
    "\n",
    "    # Rename it\n",
    "    array = cell_array\n"
   ]
  },
  {
   "cell_type": "code",
   "execution_count": 35,
   "metadata": {},
   "outputs": [
    {
     "data": {
      "image/png": "[encoded data removed]",
      "text/plain": [
       "<Figure size 500x500 with 1 Axes>"
      ]
     },
     "metadata": {},
     "output_type": "display_data"
    }
   ],
   "source": [
    "# See it\n",
    "plt.figure(figsize=(5,5))\n",
    "plt.imshow(image, cmap = \"Greys\")\n",
    "plt.show()"
   ]
  }
 ],
 "metadata": {
  "kernelspec": {
   "display_name": "Python 3",
   "language": "python",
   "name": "python3"
  },
  "language_info": {
   "codemirror_mode": {
    "name": "ipython",
    "version": 3
   },
   "file_extension": ".py",
   "mimetype": "text/x-python",
   "name": "python",
   "nbconvert_exporter": "python",
   "pygments_lexer": "ipython3",
   "version": "3.9.21"
  }
 },
 "nbformat": 4,
 "nbformat_minor": 2
}
