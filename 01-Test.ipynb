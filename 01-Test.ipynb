{
 "cells": [
  {
   "cell_type": "code",
   "execution_count": 2,
   "metadata": {},
   "outputs": [],
   "source": [
    "# Libraries\n",
    "import matplotlib.pyplot as plt\n",
    "import numpy as np"
   ]
  },
  {
   "cell_type": "code",
   "execution_count": null,
   "metadata": {},
   "outputs": [],
   "source": [
    "# Long way of doing it\n",
    "def simpleRule(array):\n",
    "\n",
    "    # Length\n",
    "    n = len(array)\n",
    "\n",
    "    # Loop\n",
    "    for m in range(n):\n",
    "\n",
    "        # Boundaries\n",
    "        if m == 0:\n",
    "            # Condition\n",
    "            if (array[n-1] == 0) and (array[1] == 0):\n",
    "                array[m] = 1\n",
    "\n",
    "            else:\n",
    "                array[m] = 0\n",
    "\n",
    "        elif m == n-1:\n",
    "            # Condition\n",
    "            if (array[n-2] == 0) and (array[0] == 0):\n",
    "                array[m] = 1\n",
    "            \n",
    "            else:\n",
    "                array[m] = 0\n",
    "\n",
    "        # Other elements\n",
    "        else:\n",
    "            if (array[m-1] == 0) and (array[m+1] == 0):\n",
    "                array[m] = 1\n",
    "            else:\n",
    "                array[m] = 0\n",
    "\n",
    "    return array"
   ]
  },
  {
   "cell_type": "code",
   "execution_count": 29,
   "metadata": {},
   "outputs": [
    {
     "data": {
      "text/plain": [
       "2"
      ]
     },
     "execution_count": 29,
     "metadata": {},
     "output_type": "execute_result"
    }
   ],
   "source": [
    "# The modulo operator for positive number\n",
    "# is just the remainder of the division\n",
    "a = 5 % 3\n",
    "a"
   ]
  },
  {
   "cell_type": "code",
   "execution_count": 34,
   "metadata": {},
   "outputs": [
    {
     "name": "stdout",
     "output_type": "stream",
     "text": [
      "1\n",
      "1\n"
     ]
    }
   ],
   "source": [
    "# While for negative numbers, it is the\n",
    "# remainder of the division plus the divisor\n",
    "b = -5 % 3\n",
    "print(b)\n",
    "\n",
    "# Specifically, it is computed in this way\n",
    "# result = dividend - (divisor * (dividend // divisor))\n",
    "c = -5 - (3 * (-5 // 3))\n",
    "c = -5 - (3 * -2)\n",
    "c = -5 + 6\n",
    "print(c)"
   ]
  },
  {
   "cell_type": "code",
   "execution_count": null,
   "metadata": {},
   "outputs": [],
   "source": [
    "# Short way of doing it\n",
    "def simpleRule(array):\n",
    "\n",
    "    # Length\n",
    "    n = len(array)   \n",
    "\n",
    "    # Loop \n",
    "    for i in range(n):\n",
    "\n",
    "        # Get left and right neighbors with circular boundary\n",
    "        left = array[(i-1) % n]\n",
    "        right = array[(i+1) % n]\n",
    "        \n",
    "        # Simple rule: if both neighbors are 0, set current cell to 1\n",
    "        if left == 0 and right == 0:\n",
    "            array[i] = 1\n",
    "            \n",
    "    return array"
   ]
  },
  {
   "cell_type": "code",
   "execution_count": 25,
   "metadata": {},
   "outputs": [],
   "source": [
    "# And define the shape\n",
    "shape = 11\n",
    "\n",
    "# Create an array of zeros\n",
    "array = np.zeros(shape)\n",
    "\n",
    "# Create an empty list\n",
    "image = []"
   ]
  },
  {
   "cell_type": "code",
   "execution_count": 26,
   "metadata": {},
   "outputs": [],
   "source": [
    "# Loop\n",
    "for _ in range(shape):\n",
    "\n",
    "    # Call the function\n",
    "    cell_array = simpleRule(array)\n",
    "\n",
    "    # Store it\n",
    "    image.append(cell_array)\n",
    "\n",
    "    # Rename it\n",
    "    array = cell_array\n"
   ]
  },
  {
   "cell_type": "code",
   "execution_count": 27,
   "metadata": {},
   "outputs": [
    {
     "data": {
      "image/png": "[encoded data removed]",
      "text/plain": [
       "<Figure size 500x500 with 1 Axes>"
      ]
     },
     "metadata": {},
     "output_type": "display_data"
    }
   ],
   "source": [
    "# See it\n",
    "plt.figure(figsize=(5,5))\n",
    "plt.imshow(image, cmap = \"Greys\")\n",
    "plt.show()"
   ]
  },
  {
   "cell_type": "code",
   "execution_count": null,
   "metadata": {},
   "outputs": [],
   "source": []
  }
 ],
 "metadata": {
  "kernelspec": {
   "display_name": "Python 3",
   "language": "python",
   "name": "python3"
  },
  "language_info": {
   "codemirror_mode": {
    "name": "ipython",
    "version": 3
   },
   "file_extension": ".py",
   "mimetype": "text/x-python",
   "name": "python",
   "nbconvert_exporter": "python",
   "pygments_lexer": "ipython3",
   "version": "3.9.21"
  }
 },
 "nbformat": 4,
 "nbformat_minor": 2
}
