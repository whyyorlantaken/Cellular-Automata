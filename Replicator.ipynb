{
 "cells": [
  {
   "cell_type": "markdown",
   "metadata": {},
   "source": [
    "# Replicator: Rule $87210$"
   ]
  },
  {
   "cell_type": "code",
   "execution_count": 2,
   "metadata": {},
   "outputs": [],
   "source": [
    "# Module\n",
    "from lifelike import LifeLikeCA\n",
    "\n",
    "import numpy as np"
   ]
  },
  {
   "cell_type": "code",
   "execution_count": 57,
   "metadata": {},
   "outputs": [],
   "source": [
    "# Create a matrix\n",
    "matrix = np.array([[1, 0, 0, 0, 0, 0, 0, 0],\n",
    "                   [1, 1, 0, 0, 0, 0, 0, 0],\n",
    "                   [0, 1, 0, 0, 0, 0, 0, 0],\n",
    "                   [0, 1, 1, 1, 1, 0, 0, 0],\n",
    "                   [0, 0, 0, 0, 1, 0, 0, 0],\n",
    "                   [0, 0, 0, 0, 1, 0, 0, 0],\n",
    "                   [0, 0, 0, 0, 1, 0, 0, 0],\n",
    "                   [0, 0, 0, 0, 1, 1, 1, 1]])\n",
    "\n",
    "# Create the grid\n",
    "size = 200\n",
    "grid = np.zeros((size, size), dtype = int)\n",
    "center = size // 2\n",
    "\n",
    "# Insert it in the middle\n",
    "grid[center - 3:center + 5, center - 3:center + 5] = matrix"
   ]
  },
  {
   "cell_type": "code",
   "execution_count": 58,
   "metadata": {},
   "outputs": [
    {
     "name": "stdout",
     "output_type": "stream",
     "text": [
      "Born with [1 3 5 7] and survive with [1 3 5 7] neighbors. Otherwise, die.\n"
     ]
    }
   ],
   "source": [
    "# Rule\n",
    "replicator = 87210\n",
    "\n",
    "# Create an object\n",
    "replicator_ca = LifeLikeCA(rule = replicator, matrix = grid)"
   ]
  },
  {
   "cell_type": "code",
   "execution_count": 59,
   "metadata": {},
   "outputs": [
    {
     "data": {
      "image/png": "[encoded data removed]",
      "text/plain": [
       "<Figure size 500x500 with 1 Axes>"
      ]
     },
     "metadata": {},
     "output_type": "display_data"
    }
   ],
   "source": [
    "# See the initial state\n",
    "replicator_ca.image(state = grid, save = False, shape = (5,5), cmap = \"Reds_r\", show = True)"
   ]
  },
  {
   "cell_type": "code",
   "execution_count": 60,
   "metadata": {},
   "outputs": [
    {
     "name": "stdout",
     "output_type": "stream",
     "text": [
      "All images have been generated.\n",
      "\n"
     ]
    }
   ],
   "source": [
    "# Create the images\n",
    "replicator_ca.images(generations = 100, processors = 4, path = \"Data/life/replicator/\", shape = (6,6), cmap = \"Reds_r\")"
   ]
  },
  {
   "cell_type": "code",
   "execution_count": 62,
   "metadata": {},
   "outputs": [
    {
     "name": "stderr",
     "output_type": "stream",
     "text": [
      "Reading images: 100%|██████████| 98/98 [00:00<00:00, 166.75it/s]\n"
     ]
    },
    {
     "name": "stdout",
     "output_type": "stream",
     "text": [
      "\n",
      "Saved replicator.gif at Data/life/replicator/.\n",
      "\n"
     ]
    }
   ],
   "source": [
    "# Create the gif\n",
    "replicator_ca.gif(path = \"Data/life/replicator/\", name = \"replicator\", fps = 5)"
   ]
  },
  {
   "cell_type": "code",
   "execution_count": null,
   "metadata": {},
   "outputs": [],
   "source": []
  }
 ],
 "metadata": {
  "kernelspec": {
   "display_name": "Python 3",
   "language": "python",
   "name": "python3"
  },
  "language_info": {
   "codemirror_mode": {
    "name": "ipython",
    "version": 3
   },
   "file_extension": ".py",
   "mimetype": "text/x-python",
   "name": "python",
   "nbconvert_exporter": "python",
   "pygments_lexer": "ipython3",
   "version": "3.9.21"
  }
 },
 "nbformat": 4,
 "nbformat_minor": 2
}
