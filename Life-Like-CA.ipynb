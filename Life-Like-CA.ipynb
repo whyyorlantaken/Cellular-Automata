{
 "cells": [
  {
   "cell_type": "markdown",
   "metadata": {},
   "source": [
    "# Life-like celullar automata\n",
    "We'll test our implementation of the class `LifeLikeCA` at `lifelike.py` with Conway's Game of Life ($6152$), Seeds ($4$) and Maze ($31752$) rules. We parallelized the neighbor counting with `Pool`.\n",
    "\n",
    "---\n",
    "### Summary\n",
    "The implementations were successful. The gifs are not displayed but they can be found in the `Data` folder.\n",
    "\n",
    "---"
   ]
  },
  {
   "cell_type": "code",
   "execution_count": 1,
   "metadata": {},
   "outputs": [],
   "source": [
    "# Our module\n",
    "from lifelike import LifeLikeCA\n",
    "\n",
    "import numpy as np"
   ]
  },
  {
   "cell_type": "code",
   "execution_count": 2,
   "metadata": {},
   "outputs": [],
   "source": [
    "# Create empty matrix\n",
    "size = 350\n",
    "matrix = np.zeros((size, size), dtype = int)\n",
    "\n",
    "# Center point\n",
    "center_x, center_y = size // 2, size // 2\n",
    "\n",
    "# Pattern\n",
    "irregular = [(0, 0), (1, 1), (2, 2), (-1, 2), (2, -1), (0, 3),\n",
    "             (3, 0), (-2, 1), (1, -2), (2, 1), (-1, -1)]\n",
    "\n",
    "# Place the pattern\n",
    "for dx, dy in irregular:\n",
    "    matrix[center_x + dx, center_y + dy] = 1"
   ]
  },
  {
   "cell_type": "markdown",
   "metadata": {},
   "source": [
    "## Conway's Game of Life"
   ]
  },
  {
   "cell_type": "code",
   "execution_count": 3,
   "metadata": {},
   "outputs": [
    {
     "name": "stdout",
     "output_type": "stream",
     "text": [
      "Born with [3] and survive with [2 3] neighbors. Otherwise, die.\n"
     ]
    }
   ],
   "source": [
    "# Rule\n",
    "conway = 6152\n",
    "\n",
    "# Create an object\n",
    "game_life = LifeLikeCA(rule = conway, matrix = matrix)"
   ]
  },
  {
   "cell_type": "code",
   "execution_count": 4,
   "metadata": {},
   "outputs": [
    {
     "data": {
      "image/png": "[encoded data removed]",
      "text/plain": [
       "<Figure size 600x600 with 1 Axes>"
      ]
     },
     "metadata": {},
     "output_type": "display_data"
    }
   ],
   "source": [
    "# See the initial state\n",
    "game_life.image(state = matrix, cmap = \"Greys_r\", show = True, shape=(6,6), save = False)"
   ]
  },
  {
   "cell_type": "code",
   "execution_count": 5,
   "metadata": {},
   "outputs": [],
   "source": [
    "# Get the images\n",
    "# game_life.images(path = \"Data/life/conways/\", generations = 20, processors = 4, cmap = \"Greys_r\", shape = (6,6)) "
   ]
  },
  {
   "cell_type": "code",
   "execution_count": 6,
   "metadata": {},
   "outputs": [
    {
     "name": "stderr",
     "output_type": "stream",
     "text": [
      "Reading images: 100%|██████████| 21/21 [00:00<00:00, 65.94it/s]\n"
     ]
    },
    {
     "name": "stdout",
     "output_type": "stream",
     "text": [
      "\n",
      "Saved conway-5fps.gif at Data/life/conways/.\n",
      "\n"
     ]
    }
   ],
   "source": [
    "# Create a gif\n",
    "game_life.gif(path = \"Data/life/conways/\", name = \"conway-5fps\", fps = 5)"
   ]
  },
  {
   "cell_type": "markdown",
   "metadata": {},
   "source": [
    "## Seeds: 4"
   ]
  },
  {
   "cell_type": "code",
   "execution_count": 7,
   "metadata": {},
   "outputs": [
    {
     "name": "stdout",
     "output_type": "stream",
     "text": [
      "Born with [2] and survive with [] neighbors. Otherwise, die.\n"
     ]
    }
   ],
   "source": [
    "# Rule\n",
    "seeds = 4\n",
    "\n",
    "# Create an object\n",
    "seeds_ca = LifeLikeCA(rule = seeds, matrix = matrix)"
   ]
  },
  {
   "cell_type": "code",
   "execution_count": 8,
   "metadata": {},
   "outputs": [
    {
     "data": {
      "image/png": "[encoded data removed]",
      "text/plain": [
       "<Figure size 600x600 with 1 Axes>"
      ]
     },
     "metadata": {},
     "output_type": "display_data"
    }
   ],
   "source": [
    "# See the initial state\n",
    "seeds_ca.image(state = matrix, cmap = \"Purples_r\", show = True, shape=(6,6), save = False)"
   ]
  },
  {
   "cell_type": "code",
   "execution_count": 9,
   "metadata": {},
   "outputs": [],
   "source": [
    "# Get the images\n",
    "# seeds_ca.images(path = \"Data/life/seeds/\", generations = 200, processors = 4, cmap = \"Purples_r\", shape=(6,6))"
   ]
  },
  {
   "cell_type": "code",
   "execution_count": 10,
   "metadata": {},
   "outputs": [
    {
     "name": "stderr",
     "output_type": "stream",
     "text": [
      "Reading images: 100%|██████████| 201/201 [00:01<00:00, 134.36it/s]\n"
     ]
    },
    {
     "name": "stdout",
     "output_type": "stream",
     "text": [
      "\n",
      "Saved seeds-7fps.gif at Data/life/seeds/.\n",
      "\n"
     ]
    },
    {
     "name": "stderr",
     "output_type": "stream",
     "text": [
      "Reading images: 100%|██████████| 201/201 [00:01<00:00, 186.79it/s]\n"
     ]
    },
    {
     "name": "stdout",
     "output_type": "stream",
     "text": [
      "\n",
      "Saved seeds-15fps.gif at Data/life/seeds/.\n",
      "\n"
     ]
    },
    {
     "name": "stderr",
     "output_type": "stream",
     "text": [
      "Reading images: 100%|██████████| 201/201 [00:01<00:00, 180.62it/s]\n"
     ]
    },
    {
     "name": "stdout",
     "output_type": "stream",
     "text": [
      "\n",
      "Saved seeds-50fps.gif at Data/life/seeds/.\n",
      "\n"
     ]
    }
   ],
   "source": [
    "# Create some gifts\n",
    "seeds_path = \"Data/life/seeds/\"\n",
    "\n",
    "seeds_ca.gif(path = seeds_path, name = \"seeds-7fps\", fps = 7)\n",
    "seeds_ca.gif(path = seeds_path, name = \"seeds-15fps\", fps = 15)\n",
    "seeds_ca.gif(path = seeds_path, name = \"seeds-50fps\", fps = 50)"
   ]
  },
  {
   "cell_type": "markdown",
   "metadata": {},
   "source": [
    "## Maze"
   ]
  },
  {
   "cell_type": "code",
   "execution_count": 11,
   "metadata": {},
   "outputs": [
    {
     "name": "stdout",
     "output_type": "stream",
     "text": [
      "Born with [3] and survive with [1 2 3 4 5] neighbors. Otherwise, die.\n"
     ]
    }
   ],
   "source": [
    "# Rule\n",
    "maze = 31752\n",
    "\n",
    "# Create an object\n",
    "maze_ca = LifeLikeCA(rule = maze, matrix = matrix)"
   ]
  },
  {
   "cell_type": "code",
   "execution_count": 12,
   "metadata": {},
   "outputs": [],
   "source": [
    "# Get the images\n",
    "# maze_ca.images(path = \"Data/life/maze/\", generations = 400, processors = 4, cmap = \"inferno\", shape=(6,6))"
   ]
  },
  {
   "cell_type": "code",
   "execution_count": 13,
   "metadata": {},
   "outputs": [
    {
     "name": "stderr",
     "output_type": "stream",
     "text": [
      "Reading images: 100%|██████████| 401/401 [00:03<00:00, 120.22it/s]\n"
     ]
    },
    {
     "name": "stdout",
     "output_type": "stream",
     "text": [
      "\n",
      "Saved maze-10fps.gif at Data/life/maze/.\n",
      "\n"
     ]
    },
    {
     "name": "stderr",
     "output_type": "stream",
     "text": [
      "Reading images: 100%|██████████| 401/401 [00:02<00:00, 144.70it/s]\n"
     ]
    },
    {
     "name": "stdout",
     "output_type": "stream",
     "text": [
      "\n",
      "Saved maze-20fps.gif at Data/life/maze/.\n",
      "\n"
     ]
    }
   ],
   "source": [
    "# Create a gif\n",
    "maze_ca.gif(path = \"Data/life/maze/\", name = \"maze-10fps\", fps = 10)\n",
    "maze_ca.gif(path = \"Data/life/maze/\", name = \"maze-20fps\", fps = 20)"
   ]
  }
 ],
 "metadata": {
  "kernelspec": {
   "display_name": "Python 3",
   "language": "python",
   "name": "python3"
  },
  "language_info": {
   "codemirror_mode": {
    "name": "ipython",
    "version": 3
   },
   "file_extension": ".py",
   "mimetype": "text/x-python",
   "name": "python",
   "nbconvert_exporter": "python",
   "pygments_lexer": "ipython3",
   "version": "3.9.21"
  }
 },
 "nbformat": 4,
 "nbformat_minor": 2
}
