{
 "cells": [
  {
   "cell_type": "markdown",
   "metadata": {},
   "source": [
    "# Rule 110 implementation\n",
    "\n",
    "The eight specific transitions/statements are these:\n",
    "\n",
    "| Pattern | 111 | 110 | 101 | 100 | 011 | 010 | 001 | 000 |\n",
    "|---------|-----|-----|-----|-----|-----|-----|-----|-----|\n",
    "| New state | 0   | 1   | 1   | 0   | 1   | 1   | 1   | 0   |"
   ]
  },
  {
   "cell_type": "code",
   "execution_count": 1,
   "metadata": {},
   "outputs": [],
   "source": [
    "# Libraries\n",
    "import numpy as np\n",
    "import matplotlib.pyplot as plt\n",
    "import time"
   ]
  },
  {
   "cell_type": "markdown",
   "metadata": {},
   "source": [
    "## Rough implementation\n",
    "Straight application of the statements. Not the best but it works."
   ]
  },
  {
   "cell_type": "code",
   "execution_count": 2,
   "metadata": {},
   "outputs": [],
   "source": [
    "# Little function\n",
    "def rough_110(array):\n",
    "    \"\"\"\n",
    "    Implementation of the rule.\n",
    "    \"\"\"\n",
    "    # Length\n",
    "    n = len(array)\n",
    "\n",
    "    # New array\n",
    "    new_array = np.zeros(n)\n",
    "\n",
    "    # Loop\n",
    "    for i in range(n):\n",
    "\n",
    "        # Get the neighbors (with boundaries)\n",
    "        left = array[(i-1) % n]\n",
    "        right = array[(i+1) % n]\n",
    "\n",
    "        # Case 1:\n",
    "        if left == 1 and array[i] == 1 and right == 1:\n",
    "            new_array[i] = 0\n",
    "\n",
    "        # Case 2:\n",
    "        elif left == 1 and array[i] == 1 and right == 0:\n",
    "            new_array[i] = 1\n",
    "\n",
    "        # Case 3:\n",
    "        elif left == 1 and array[i] == 0 and right == 1:\n",
    "            new_array[i] = 1\n",
    "\n",
    "        # Case 4:\n",
    "        elif left == 1 and array[i] == 0 and right == 0:\n",
    "            new_array[i] = 0\n",
    "\n",
    "        # Case 5:\n",
    "        elif left == 0 and array[i] == 1 and right == 1:\n",
    "            new_array[i] = 1\n",
    "\n",
    "        # Case 6:\n",
    "        elif left == 0 and array[i] == 1 and right == 0:\n",
    "            new_array[i] = 1\n",
    "\n",
    "        # Case 7:\n",
    "        elif left == 0 and array[i] == 0 and right == 1:\n",
    "            new_array[i] = 1\n",
    "\n",
    "        # Case 8:\n",
    "        elif left == 0 and array[i] == 0 and right == 0:\n",
    "            new_array[i] = 0\n",
    "\n",
    "    return new_array"
   ]
  },
  {
   "cell_type": "code",
   "execution_count": 3,
   "metadata": {},
   "outputs": [],
   "source": [
    "# Create an array of zeros\n",
    "n = 150\n",
    "array = np.zeros(n)\n",
    "\n",
    "# And set the first element to 1\n",
    "array[-1] = 1\n",
    "\n",
    "# Creat an empty list\n",
    "rough_image = []\n",
    "\n",
    "# Append the array\n",
    "rough_image.append(array)"
   ]
  },
  {
   "cell_type": "code",
   "execution_count": 4,
   "metadata": {},
   "outputs": [
    {
     "name": "stdout",
     "output_type": "stream",
     "text": [
      "Time: 0.0868 seconds.\n"
     ]
    }
   ],
   "source": [
    "# Start the times\n",
    "start = time.time()\n",
    "\n",
    "# Loop\n",
    "for _ in range(n):\n",
    "\n",
    "    # Apply the rule\n",
    "    array = rough_110(array)\n",
    "\n",
    "    # Append the array\n",
    "    rough_image.append(array)\n",
    "\n",
    "# End the time\n",
    "end = time.time()\n",
    "\n",
    "# Print the time\n",
    "print(f\"Time: {(end - start):.4f} seconds.\")"
   ]
  },
  {
   "cell_type": "code",
   "execution_count": 5,
   "metadata": {},
   "outputs": [
    {
     "data": {
      "image/png": "[encoded data removed]",
      "text/plain": [
       "<Figure size 800x800 with 1 Axes>"
      ]
     },
     "metadata": {},
     "output_type": "display_data"
    }
   ],
   "source": [
    "# Plot\n",
    "plt.figure(figsize=(8, 8))\n",
    "plt.imshow(np.array(rough_image), cmap='Blues')\n",
    "\n",
    "plt.title(\"Rule 110: One 1 at the end\", fontsize=20)\n",
    "plt.axis('off')\n",
    "plt.show()"
   ]
  },
  {
   "cell_type": "markdown",
   "metadata": {},
   "source": [
    "## Compact implementation\n",
    "We can use a table instead of many conditional statements. The table will contain the new state for each possible pattern of three cells."
   ]
  },
  {
   "cell_type": "code",
   "execution_count": 6,
   "metadata": {},
   "outputs": [],
   "source": [
    "# Define the rule as a table\n",
    "table_110 = {(1,1,1): 0,\n",
    "             (1,1,0): 1,\n",
    "             (1,0,1): 1,\n",
    "             (1,0,0): 0,\n",
    "             (0,1,1): 1,\n",
    "             (0,1,0): 1,\n",
    "             (0,0,1): 1,\n",
    "             (0,0,0): 0}\n",
    "            "
   ]
  },
  {
   "cell_type": "code",
   "execution_count": 7,
   "metadata": {},
   "outputs": [],
   "source": [
    "def compact_110(array, rule_table):\n",
    "    \"\"\"\n",
    "    Uses table to apply a rule.\n",
    "\n",
    "    Parameters\n",
    "    ----------\n",
    "    array : array\n",
    "        Array to apply the rule.\n",
    "    rule_table : dict\n",
    "        Dictionary with the rule.\n",
    "\n",
    "    Returns\n",
    "    -------\n",
    "    new_array : array\n",
    "        New array.\n",
    "    \"\"\"\n",
    "    # Length\n",
    "    n = len(array)\n",
    "\n",
    "    # New array\n",
    "    new_array = np.zeros(n)\n",
    "    \n",
    "    # Loop\n",
    "    for i in range(n):\n",
    "\n",
    "        # Get the neighbors and center (with boundaries)\n",
    "        left = array[(i-1) % n]\n",
    "        right = array[(i+1) % n]\n",
    "        center = array[i]\n",
    "\n",
    "        # Apply the rule\n",
    "        new_array[i] = rule_table[(left, center, right)]\n",
    "        \n",
    "    return new_array"
   ]
  },
  {
   "cell_type": "code",
   "execution_count": 8,
   "metadata": {},
   "outputs": [],
   "source": [
    "# Create an array of zeros\n",
    "array2 = np.zeros(n)\n",
    "\n",
    "# And set the first element to 1\n",
    "array2[-1] = 1\n",
    "\n",
    "# Creat another empty list\n",
    "compact_image = []\n",
    "\n",
    "# Append the array\n",
    "compact_image.append(array2)"
   ]
  },
  {
   "cell_type": "code",
   "execution_count": 9,
   "metadata": {},
   "outputs": [
    {
     "name": "stdout",
     "output_type": "stream",
     "text": [
      "Time: 0.0311 seconds.\n"
     ]
    }
   ],
   "source": [
    "# Start the time\n",
    "start = time.time()\n",
    "\n",
    "# Loop\n",
    "for _ in range(n):\n",
    "\n",
    "    # Apply the rule\n",
    "    array2 = compact_110(array2, table_110)\n",
    "\n",
    "    # Append the array\n",
    "    compact_image.append(array2)\n",
    "\n",
    "# End the time\n",
    "end = time.time()\n",
    "\n",
    "# Print the time\n",
    "print(f\"Time: {(end - start):.4f} seconds.\")"
   ]
  },
  {
   "cell_type": "code",
   "execution_count": 10,
   "metadata": {},
   "outputs": [
    {
     "data": {
      "image/png": "[encoded data removed]",
      "text/plain": [
       "<Figure size 800x800 with 1 Axes>"
      ]
     },
     "metadata": {},
     "output_type": "display_data"
    }
   ],
   "source": [
    "# Plot\n",
    "plt.figure(figsize=(8, 8))\n",
    "plt.imshow(np.array(compact_image), cmap='Greens')\n",
    "\n",
    "plt.title(\"Rule 110: One 1 at the end\", fontsize=20)\n",
    "plt.axis('off')\n",
    "plt.show()"
   ]
  },
  {
   "cell_type": "markdown",
   "metadata": {},
   "source": [
    "Results are the same!"
   ]
  },
  {
   "cell_type": "markdown",
   "metadata": {},
   "source": [
    "## Other initial configurations"
   ]
  },
  {
   "cell_type": "code",
   "execution_count": 11,
   "metadata": {},
   "outputs": [],
   "source": [
    "# Redefine n\n",
    "n = 100"
   ]
  },
  {
   "cell_type": "code",
   "execution_count": 12,
   "metadata": {},
   "outputs": [],
   "source": [
    "# Array with alternating 1s and 0s\n",
    "array3 = np.zeros(n)\n",
    "array3[::9] = 1\n",
    "\n",
    "# Array with three 0s and a 1\n",
    "array4 = np.zeros(n)\n",
    "array4[::4] = 1"
   ]
  },
  {
   "cell_type": "code",
   "execution_count": 13,
   "metadata": {},
   "outputs": [],
   "source": [
    "# Creat other empty lists\n",
    "random_image3 = []\n",
    "random_image4 = []\n",
    "\n",
    "# Append the arrays\n",
    "random_image3.append(array3)\n",
    "random_image4.append(array4)"
   ]
  },
  {
   "cell_type": "code",
   "execution_count": 14,
   "metadata": {},
   "outputs": [
    {
     "name": "stdout",
     "output_type": "stream",
     "text": [
      "Time: 0.0164 seconds.\n"
     ]
    }
   ],
   "source": [
    "# Start the time\n",
    "start = time.time()\n",
    "\n",
    "# Loop\n",
    "for _ in range(n):\n",
    "\n",
    "    # Apply the rule\n",
    "    array3 = compact_110(array3, table_110)\n",
    "\n",
    "    # Append the array\n",
    "    random_image3.append(array3)\n",
    "\n",
    "# End the time\n",
    "end = time.time()\n",
    "\n",
    "# Print the time\n",
    "print(f\"Time: {(end - start):.4f} seconds.\")"
   ]
  },
  {
   "cell_type": "code",
   "execution_count": 15,
   "metadata": {},
   "outputs": [
    {
     "name": "stdout",
     "output_type": "stream",
     "text": [
      "Time: 0.0254 seconds.\n"
     ]
    }
   ],
   "source": [
    "# Start the time\n",
    "start = time.time()\n",
    "\n",
    "# Loop\n",
    "for _ in range(n):\n",
    "\n",
    "    # Apply the rule\n",
    "    array4 = compact_110(array4, table_110)\n",
    "\n",
    "    # Append the array\n",
    "    random_image4.append(array4)\n",
    "\n",
    "# End the time\n",
    "end = time.time()\n",
    "\n",
    "# Print the time\n",
    "print(f\"Time: {(end - start):.4f} seconds.\")"
   ]
  },
  {
   "cell_type": "code",
   "execution_count": 16,
   "metadata": {},
   "outputs": [
    {
     "data": {
      "image/png": "[encoded data removed]",
      "text/plain": [
       "<Figure size 1400x700 with 2 Axes>"
      ]
     },
     "metadata": {},
     "output_type": "display_data"
    }
   ],
   "source": [
    "# Two-panel figure\n",
    "fig, ax = plt.subplots(1, 2, figsize=(14, 7))\n",
    "\n",
    "fig.suptitle(\"Rule 110\", fontsize=25)\n",
    "\n",
    "# Alternative 1s and 0s\n",
    "ax[0].imshow(random_image3, cmap='Blues')\n",
    "ax[0].set_title(\"Zeros in between: 9\", fontsize=20)\n",
    "ax[0].axis('off')\n",
    "\n",
    "# Alternating 1s and 0s with more 0s\n",
    "ax[1].imshow(random_image4, cmap = 'Reds')\n",
    "ax[1].set_title(\"Zeros in between: 4\", fontsize=20)\n",
    "ax[1].axis('off')\n",
    "\n",
    "# Get rid of space\n",
    "plt.subplots_adjust(wspace=0)\n",
    "plt.show()"
   ]
  }
 ],
 "metadata": {
  "kernelspec": {
   "display_name": "Python 3",
   "language": "python",
   "name": "python3"
  },
  "language_info": {
   "codemirror_mode": {
    "name": "ipython",
    "version": 3
   },
   "file_extension": ".py",
   "mimetype": "text/x-python",
   "name": "python",
   "nbconvert_exporter": "python",
   "pygments_lexer": "ipython3",
   "version": "3.9.21"
  }
 },
 "nbformat": 4,
 "nbformat_minor": 2
}
