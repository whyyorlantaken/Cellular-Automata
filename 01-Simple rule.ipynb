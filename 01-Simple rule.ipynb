{
 "cells": [
  {
   "cell_type": "markdown",
   "metadata": {},
   "source": [
    "# Simple rule implementation\n",
    "One simple rule for elementary (1$D$) cellular automata.\n",
    "\n",
    "The rule is going to be: **If the two neighbors are $0$, set the center cell to $1$. Otherwise, leave it as $0.$**"
   ]
  },
  {
   "cell_type": "code",
   "execution_count": 9,
   "metadata": {},
   "outputs": [],
   "source": [
    "# Libraries\n",
    "import matplotlib.pyplot as plt\n",
    "import numpy as np\n",
    "import time"
   ]
  },
  {
   "cell_type": "markdown",
   "metadata": {},
   "source": [
    "## Long way"
   ]
  },
  {
   "cell_type": "code",
   "execution_count": 2,
   "metadata": {},
   "outputs": [],
   "source": [
    "# Not so little function\n",
    "def long_way(array):\n",
    "\n",
    "    # Length\n",
    "    n = len(array)\n",
    "\n",
    "    # Loop\n",
    "    for m in range(n):\n",
    "\n",
    "        # Boundaries\n",
    "        if m == 0:\n",
    "            # Condition\n",
    "            if (array[n-1] == 0) and (array[1] == 0):\n",
    "                array[m] = 1\n",
    "\n",
    "            else:\n",
    "                array[m] = 0\n",
    "\n",
    "        elif m == n-1:\n",
    "            # Condition\n",
    "            if (array[n-2] == 0) and (array[0] == 0):\n",
    "                array[m] = 1\n",
    "            \n",
    "            else:\n",
    "                array[m] = 0\n",
    "\n",
    "        # Other elements\n",
    "        else:\n",
    "            if (array[m-1] == 0) and (array[m+1] == 0):\n",
    "                array[m] = 1\n",
    "            else:\n",
    "                array[m] = 0\n",
    "\n",
    "    return array"
   ]
  },
  {
   "cell_type": "markdown",
   "metadata": {},
   "source": [
    "## Short way"
   ]
  },
  {
   "cell_type": "code",
   "execution_count": 3,
   "metadata": {},
   "outputs": [],
   "source": [
    "# Actually little function\n",
    "def short_way(array):\n",
    "\n",
    "    # Length\n",
    "    n = len(array)   \n",
    "\n",
    "    # Loop \n",
    "    for i in range(n):\n",
    "\n",
    "        # Get left and right neighbors with circular boundary\n",
    "        left = array[(i-1) % n]\n",
    "        right = array[(i+1) % n]\n",
    "        \n",
    "        # Simple rule: if both neighbors are 0, set current cell to 1\n",
    "        if left == 0 and right == 0:\n",
    "            array[i] = 1\n",
    "            \n",
    "    return array"
   ]
  },
  {
   "cell_type": "markdown",
   "metadata": {},
   "source": [
    "### (Modulo operator parenthesis)"
   ]
  },
  {
   "cell_type": "code",
   "execution_count": 4,
   "metadata": {},
   "outputs": [
    {
     "data": {
      "text/plain": [
       "2"
      ]
     },
     "execution_count": 4,
     "metadata": {},
     "output_type": "execute_result"
    }
   ],
   "source": [
    "# The modulo operator for positive number\n",
    "# is just the remainder of the division\n",
    "a = 5 % 3\n",
    "a"
   ]
  },
  {
   "cell_type": "code",
   "execution_count": 5,
   "metadata": {},
   "outputs": [
    {
     "name": "stdout",
     "output_type": "stream",
     "text": [
      "1\n",
      "1\n"
     ]
    }
   ],
   "source": [
    "# While for negative numbers, it is the\n",
    "# remainder of the division plus the divisor\n",
    "b = -5 % 3\n",
    "print(b)\n",
    "\n",
    "# Specifically, it is computed in this way\n",
    "# result = dividend - (divisor * (dividend // divisor))\n",
    "c = -5 - (3 * (-5 // 3))\n",
    "c = -5 - (3 * -2)\n",
    "c = -5 + 6\n",
    "print(c)"
   ]
  },
  {
   "cell_type": "markdown",
   "metadata": {},
   "source": [
    "## Usage and visualization"
   ]
  },
  {
   "cell_type": "code",
   "execution_count": 12,
   "metadata": {},
   "outputs": [],
   "source": [
    "# Define the shape of the array\n",
    "shape = 2000\n",
    "\n",
    "# Create the array\n",
    "array = np.zeros(shape)\n",
    "\n",
    "# Also create two empty lists\n",
    "long_image = []\n",
    "short_image = []"
   ]
  },
  {
   "cell_type": "code",
   "execution_count": 13,
   "metadata": {},
   "outputs": [
    {
     "name": "stdout",
     "output_type": "stream",
     "text": [
      "Long way took 1.5197970867156982 seconds\n"
     ]
    }
   ],
   "source": [
    "# \"Long\" loop\n",
    "start = time.time()\n",
    "\n",
    "for _ in range(shape):\n",
    "\n",
    "    # Call the function\n",
    "    cell_array = long_way(array)\n",
    "\n",
    "    # Store it\n",
    "    long_image.append(cell_array)\n",
    "\n",
    "    # Rename it\n",
    "    array = cell_array\n",
    "\n",
    "end = time.time()\n",
    "\n",
    "print(\"Long way took\", end - start, \"seconds\")"
   ]
  },
  {
   "cell_type": "code",
   "execution_count": 14,
   "metadata": {},
   "outputs": [
    {
     "name": "stdout",
     "output_type": "stream",
     "text": [
      "Short way took 1.7011549472808838 seconds\n"
     ]
    }
   ],
   "source": [
    "# \"Short\" loop\n",
    "start = time.time()\n",
    "\n",
    "for _ in range(shape):\n",
    "\n",
    "    # Call the function\n",
    "    cell_array = short_way(array)\n",
    "\n",
    "    # Store it\n",
    "    short_image.append(cell_array)\n",
    "\n",
    "    # Rename it\n",
    "    array = cell_array\n",
    "\n",
    "end = time.time()\n",
    "\n",
    "print(\"Short way took\", end - start, \"seconds\")"
   ]
  },
  {
   "cell_type": "code",
   "execution_count": 15,
   "metadata": {},
   "outputs": [
    {
     "data": {
      "image/png": "[encoded data removed]",
      "text/plain": [
       "<Figure size 1000x500 with 2 Axes>"
      ]
     },
     "metadata": {},
     "output_type": "display_data"
    }
   ],
   "source": [
    "# See both results in a two panel figure with no axis\n",
    "fig, ax = plt.subplots(1, 2, figsize=(10, 5))\n",
    "ax[0].imshow(long_image, cmap='binary')\n",
    "ax[0].axis('off')\n",
    "ax[0].set_title('Long way')\n",
    "ax[1].imshow(short_image, cmap='binary')\n",
    "ax[1].axis('off')\n",
    "ax[1].set_title('Short way')\n",
    "\n",
    "# Horizontal space\n",
    "plt.subplots_adjust(wspace=0.1)\n",
    "plt.show()"
   ]
  },
  {
   "cell_type": "markdown",
   "metadata": {},
   "source": [
    "Surprisingly, the \"short\" way takes longer! Nonetheless, the implementations work."
   ]
  }
 ],
 "metadata": {
  "kernelspec": {
   "display_name": "Python 3",
   "language": "python",
   "name": "python3"
  },
  "language_info": {
   "codemirror_mode": {
    "name": "ipython",
    "version": 3
   },
   "file_extension": ".py",
   "mimetype": "text/x-python",
   "name": "python",
   "nbconvert_exporter": "python",
   "pygments_lexer": "ipython3",
   "version": "3.9.21"
  }
 },
 "nbformat": 4,
 "nbformat_minor": 2
}
